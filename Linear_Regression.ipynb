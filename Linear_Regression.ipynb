{
 "cells": [
  {
   "cell_type": "code",
   "execution_count": 7,
   "metadata": {},
   "outputs": [],
   "source": [
    "import numpy as np \n",
    "import pandas as pd\n",
    "from sklearn.model_selection import train_test_split \n",
    "from sklearn.linear_model import LinearRegression \n",
    "from sklearn import metrics\n",
    "import seaborn as sns \n",
    "import matplotlib.pyplot as plt \n",
    "from IPython.display import display_html\n",
    "\n"
   ]
  },
  {
   "cell_type": "code",
   "execution_count": 8,
   "metadata": {},
   "outputs": [],
   "source": [
    "def visualize(lr, X,Y):\n",
    "    plt.scatter(X, Y, color=\"red\")\n",
    "    plt.plot(X, lr.predict(X), color=\"green\") \n",
    "    plt.title(\"Salary vs Experience (Testing Set)\")\n",
    "    plt.xlabel(\"Years of Experience\") \n",
    "    plt.show()\n",
    "    plt.ylabel(\"Salary\")\n",
    "\n"
   ]
  },
  {
   "cell_type": "code",
   "execution_count": 9,
   "metadata": {},
   "outputs": [],
   "source": [
    "def linear(x_train, y_train):\n",
    "    lr = LinearRegression()\n",
    "    lr.fit(x_train, y_train)\n",
    "    m=lr.coef_ \n",
    "    b=lr.intercept_\n",
    "    print(\" Learned parameter: \\n slope=\",m, \"\\nintercept=\",b)\n",
    "    return lr"
   ]
  },
  {
   "cell_type": "code",
   "execution_count": 10,
   "metadata": {},
   "outputs": [],
   "source": [
    "def test(lr, x_test,y_test):\n",
    "    x_test=x_test.reset_index()\n",
    "    del x_test['index']\n",
    "    y_test=y_test.reset_index()\n",
    "    del y_test['index']\n",
    "    y_pred= lr.predict(x_test)\n",
    "    predictions = pd.concat([x_test,pd.Series(y_pred,name='Predicted salary')], axis=1) \n",
    "    print(\"Do you want to view salary prediction of test data?\")\n",
    "    choice=input()\n",
    "    if choice=='yes':\n",
    "        display_html(predictions)\n",
    "    print(\"Do you want to view Evaluation of linear regression model?\")\n",
    "    choice=input()\n",
    "    if choice==\"yes\":\n",
    "        evaluation(lr,y_pred,y_test)\n",
    "    else:\n",
    "        quit()\n",
    "\n"
   ]
  },
  {
   "cell_type": "code",
   "execution_count": 11,
   "metadata": {},
   "outputs": [],
   "source": [
    "def evaluation(lr,y_pred,y_test):\n",
    "    print(\"Mean Absolute Error of the Model:\", metrics.mean_absolute_error(y_test,y_pred)) \n",
    "    print(\"Mean Squared Error of the Model:\", metrics.mean_squared_error(y_test,y_pred)) \n",
    "    print('Root Mean Squared Error of the Model:',np.sqrt(metrics.mean_absolute_error(y_test,y_pred)))\n",
    "\n"
   ]
  },
  {
   "cell_type": "code",
   "execution_count": null,
   "metadata": {},
   "outputs": [
    {
     "name": "stdout",
     "output_type": "stream",
     "text": [
      "   YearsExperience   Salary\n",
      "0              1.1  39343.0\n",
      "1              1.3  46205.0\n",
      "2              1.5  37731.0\n",
      "3              2.0  43525.0\n",
      "4              2.2  39891.0\n",
      " Learned parameter: \n",
      " slope= [9333.45351992] \n",
      "intercept= 26967.056118806235\n",
      "Do you want to view salary prediction of test data?\n"
     ]
    }
   ],
   "source": [
    "def main():\n",
    "    dataset = pd.read_csv('Salary_Data.csv')\n",
    "    print(dataset.head())\n",
    "    y = dataset[\"Salary\"]\n",
    "    x = dataset.drop(['Salary'],axis = 1)\n",
    "    x_train, x_test, y_train, y_test = train_test_split(x, y, test_size=1/3)\n",
    "    lr = linear(x_train,y_train) \n",
    "    test(lr, x_test, y_test)\n",
    "    print(\"Enter the year of experience to predict the salary of employee:\")\n",
    "    year = int(input())\n",
    "    print(\"Salary for a employee with \" + str(year) +\" of experience is\",lr.predict([[year]]))\n",
    "    print(\"Do your want to view the plot for test set prediction?\")\n",
    "    choice = input() \n",
    "    if choice == 'yes':\n",
    "        print(\"Plotting the y test data vs y predicted data\")\n",
    "        visualize(lr, x_test,y_test)\n",
    "    else:\n",
    "        quit()\n",
    "main()"
   ]
  },
  {
   "cell_type": "code",
   "execution_count": null,
   "metadata": {},
   "outputs": [],
   "source": []
  },
  {
   "cell_type": "code",
   "execution_count": null,
   "metadata": {},
   "outputs": [],
   "source": []
  }
 ],
 "metadata": {
  "kernelspec": {
   "display_name": "Python 3",
   "language": "python",
   "name": "python3"
  },
  "language_info": {
   "codemirror_mode": {
    "name": "ipython",
    "version": 3
   },
   "file_extension": ".py",
   "mimetype": "text/x-python",
   "name": "python",
   "nbconvert_exporter": "python",
   "pygments_lexer": "ipython3",
   "version": "3.8.3"
  }
 },
 "nbformat": 4,
 "nbformat_minor": 5
}
