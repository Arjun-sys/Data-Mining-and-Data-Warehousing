{
 "cells": [
  {
   "cell_type": "code",
   "execution_count": 1,
   "metadata": {},
   "outputs": [],
   "source": [
    "import pandas as pd\n",
    "from IPython.display import display_html\n",
    "from sklearn import tree\n",
    "from sklearn.tree import export_graphviz\n",
    "from sklearn.metrics import accuracy_score,classification_report,confusion_matrix"
   ]
  },
  {
   "cell_type": "code",
   "execution_count": 2,
   "metadata": {},
   "outputs": [],
   "source": [
    "def toy_dataset():\n",
    "    animal = [['human',1,1,0,0,1,0,'mammals'],['python',0,0,0,0,0,1,'reptiles'],\n",
    "              ['salmon',0,0,1,0,0,0,'fishes'],['whale',1,1,1,0,0,0,'mammals'],\n",
    "              ['frog',0,0,1,0,1,1,'amphibians'],['komodo',0,0,0,0,1,0,'reptiles'],\n",
    "              ['bat',1,1,0,1,1,1,'mammals'],['piegon',1,0,0,1,1,0,'birds'],\n",
    "              ['cat',1,1,0,0,1,0,'mammals'],['leopard shark',0,1,1,0,0,0,'fishes'],\n",
    "              ['turtle',0,0,1,0,1,0,'reptiles'],['penguin',1,0,1,0,1,0,'birds'],\n",
    "              ['porcupine',1,1,0,0,1,1,'mammals'],['eel',0,0,1,0,0,0,'fishes'],\n",
    "              ['salamander',0,0,1,0,1,1,'amphibians']]\n",
    "    titles = ['Name','Warm_blooded','Give_birth','Aquatic_creature','Aerial_creature','Has_legs','Hibernates','Class']\n",
    "    data = pd.DataFrame(animal,columns = titles)\n",
    "    data['Class'] = data['Class'].replace(['fishes','birds','amphibians','reptiles'],'non-mammals')\n",
    "    print(\"Do you want to view the data?\")\n",
    "    choice = input()\n",
    "    if choice == 'yes':\n",
    "        display_html(data)\n",
    "    return data"
   ]
  },
  {
   "cell_type": "code",
   "execution_count": 3,
   "metadata": {},
   "outputs": [],
   "source": [
    "def build_model(data):\n",
    "    Y =  data['Class']\n",
    "    X = data.drop(['Name','Class'],axis = 1)\n",
    "    clf = tree.DecisionTreeClassifier(criterion = 'entropy',max_depth = 3)\n",
    "    cf = clf.fit(X,Y)\n",
    "    return clf"
   ]
  },
  {
   "cell_type": "code",
   "execution_count": 4,
   "metadata": {},
   "outputs": [],
   "source": [
    "def prediction_using_model(clf):\n",
    "    testData = [['gila monster',0,0,0,0,1,1,'non-mammals'],\n",
    "                ['platypus',1,0,0,0,1,1,'mammals'],\n",
    "                ['owl',1,0,0,1,1,0,'non-mammals'],\n",
    "                ['dolphin',1,1,1,0,0,0,'mammals']]\n",
    "    titles = ['Name','Warm_blooded','Give_birth','Aquatic_creature','Aerial_creature','Has_legs','Hibernates','Class']\n",
    "    testData = pd.DataFrame(testData, columns=titles)\n",
    "    print(\"Do you  want to view the test data?\")\n",
    "    choice = input()\n",
    "    if choice == 'yes':\n",
    "        display_html(testData)\n",
    "   # return testData\n",
    "    y_test = testData['Class']\n",
    "    x_test = testData.drop(['Name','Class'],axis = 1)\n",
    "    y_pred = clf.predict(x_test)\n",
    "    predictions = pd.concat([testData['Name'],pd.Series(y_pred, name = 'Predicted Class')],axis = 1)\n",
    "    print(\"prediction for your test data is:\")\n",
    "    display_html(predictions)\n",
    "    #MOdel Evaluation\n",
    "    print(\"Do you want to view Evaluation of model?\")\n",
    "    choice = input()\n",
    "    if choice =='yes':\n",
    "        model_evaluation(y_pred,y_test)\n",
    "    else:\n",
    "        quit()\n",
    "    "
   ]
  },
  {
   "cell_type": "code",
   "execution_count": 5,
   "metadata": {},
   "outputs": [],
   "source": [
    "def model_evaluation(y_pred,y_test):\n",
    "    print(\"Confusion Matrix:\")\n",
    "    report = (confusion_matrix(y_test,y_pred))\n",
    "    cf = pd.DataFrame(report).transpose()\n",
    "    display_html(cf)\n",
    "    score = accuracy_score(y_test,y_pred)\n",
    "    print(\"Decision Tree Accuracy :\",score)\n",
    "    print(\"Classification report:\")\n",
    "    report = (classification_report(y_test,y_pred,output_dict =True))\n",
    "    df = pd.DataFrame(report).transpose()\n",
    "    display_html(df[['precision','recall','f1-score']].head(2))"
   ]
  },
  {
   "cell_type": "code",
   "execution_count": null,
   "metadata": {},
   "outputs": [
    {
     "name": "stdout",
     "output_type": "stream",
     "text": [
      "Do you want to view the data?\n",
      "no\n",
      "Your decision tree cosntructed successfully, check the current directory for tree.png\n",
      "Do you  want to view the test data?\n",
      "yes\n"
     ]
    },
    {
     "data": {
      "text/html": [
       "<div>\n",
       "<style scoped>\n",
       "    .dataframe tbody tr th:only-of-type {\n",
       "        vertical-align: middle;\n",
       "    }\n",
       "\n",
       "    .dataframe tbody tr th {\n",
       "        vertical-align: top;\n",
       "    }\n",
       "\n",
       "    .dataframe thead th {\n",
       "        text-align: right;\n",
       "    }\n",
       "</style>\n",
       "<table border=\"1\" class=\"dataframe\">\n",
       "  <thead>\n",
       "    <tr style=\"text-align: right;\">\n",
       "      <th></th>\n",
       "      <th>Name</th>\n",
       "      <th>Warm_blooded</th>\n",
       "      <th>Give_birth</th>\n",
       "      <th>Aquatic_creature</th>\n",
       "      <th>Aerial_creature</th>\n",
       "      <th>Has_legs</th>\n",
       "      <th>Hibernates</th>\n",
       "      <th>Class</th>\n",
       "    </tr>\n",
       "  </thead>\n",
       "  <tbody>\n",
       "    <tr>\n",
       "      <th>0</th>\n",
       "      <td>gila monster</td>\n",
       "      <td>0</td>\n",
       "      <td>0</td>\n",
       "      <td>0</td>\n",
       "      <td>0</td>\n",
       "      <td>1</td>\n",
       "      <td>1</td>\n",
       "      <td>non-mammals</td>\n",
       "    </tr>\n",
       "    <tr>\n",
       "      <th>1</th>\n",
       "      <td>platypus</td>\n",
       "      <td>1</td>\n",
       "      <td>0</td>\n",
       "      <td>0</td>\n",
       "      <td>0</td>\n",
       "      <td>1</td>\n",
       "      <td>1</td>\n",
       "      <td>mammals</td>\n",
       "    </tr>\n",
       "    <tr>\n",
       "      <th>2</th>\n",
       "      <td>owl</td>\n",
       "      <td>1</td>\n",
       "      <td>0</td>\n",
       "      <td>0</td>\n",
       "      <td>1</td>\n",
       "      <td>1</td>\n",
       "      <td>0</td>\n",
       "      <td>non-mammals</td>\n",
       "    </tr>\n",
       "    <tr>\n",
       "      <th>3</th>\n",
       "      <td>dolphin</td>\n",
       "      <td>1</td>\n",
       "      <td>1</td>\n",
       "      <td>1</td>\n",
       "      <td>0</td>\n",
       "      <td>0</td>\n",
       "      <td>0</td>\n",
       "      <td>mammals</td>\n",
       "    </tr>\n",
       "  </tbody>\n",
       "</table>\n",
       "</div>"
      ]
     },
     "metadata": {},
     "output_type": "display_data"
    },
    {
     "name": "stdout",
     "output_type": "stream",
     "text": [
      "prediction for your test data is:\n"
     ]
    },
    {
     "data": {
      "text/html": [
       "<div>\n",
       "<style scoped>\n",
       "    .dataframe tbody tr th:only-of-type {\n",
       "        vertical-align: middle;\n",
       "    }\n",
       "\n",
       "    .dataframe tbody tr th {\n",
       "        vertical-align: top;\n",
       "    }\n",
       "\n",
       "    .dataframe thead th {\n",
       "        text-align: right;\n",
       "    }\n",
       "</style>\n",
       "<table border=\"1\" class=\"dataframe\">\n",
       "  <thead>\n",
       "    <tr style=\"text-align: right;\">\n",
       "      <th></th>\n",
       "      <th>Name</th>\n",
       "      <th>Predicted Class</th>\n",
       "    </tr>\n",
       "  </thead>\n",
       "  <tbody>\n",
       "    <tr>\n",
       "      <th>0</th>\n",
       "      <td>gila monster</td>\n",
       "      <td>non-mammals</td>\n",
       "    </tr>\n",
       "    <tr>\n",
       "      <th>1</th>\n",
       "      <td>platypus</td>\n",
       "      <td>non-mammals</td>\n",
       "    </tr>\n",
       "    <tr>\n",
       "      <th>2</th>\n",
       "      <td>owl</td>\n",
       "      <td>non-mammals</td>\n",
       "    </tr>\n",
       "    <tr>\n",
       "      <th>3</th>\n",
       "      <td>dolphin</td>\n",
       "      <td>mammals</td>\n",
       "    </tr>\n",
       "  </tbody>\n",
       "</table>\n",
       "</div>"
      ]
     },
     "metadata": {},
     "output_type": "display_data"
    },
    {
     "name": "stdout",
     "output_type": "stream",
     "text": [
      "Do you want to view Evaluation of model?\n"
     ]
    }
   ],
   "source": [
    "def main():\n",
    "    data = toy_dataset()\n",
    "    model = build_model(data)\n",
    "    #to visualize tree and install both graphviz and pydotplus\n",
    "    dot_data =tree.export_graphviz(model,'tree.dot',class_names = True)\n",
    "    !dot -Tpng tree.dot -o \"tree.png\"\n",
    "    print(\"Your decision tree cosntructed successfully, check the current directory for tree.png\")\n",
    "    prediction_using_model(model)\n",
    "main()"
   ]
  },
  {
   "cell_type": "code",
   "execution_count": null,
   "metadata": {},
   "outputs": [],
   "source": []
  }
 ],
 "metadata": {
  "kernelspec": {
   "display_name": "Python 3",
   "language": "python",
   "name": "python3"
  },
  "language_info": {
   "codemirror_mode": {
    "name": "ipython",
    "version": 3
   },
   "file_extension": ".py",
   "mimetype": "text/x-python",
   "name": "python",
   "nbconvert_exporter": "python",
   "pygments_lexer": "ipython3",
   "version": "3.8.3"
  }
 },
 "nbformat": 4,
 "nbformat_minor": 5
}
